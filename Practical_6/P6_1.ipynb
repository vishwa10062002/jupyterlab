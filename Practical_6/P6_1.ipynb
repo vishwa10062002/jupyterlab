{
 "cells": [
  {
   "cell_type": "code",
   "execution_count": 3,
   "id": "95c75bac",
   "metadata": {},
   "outputs": [
    {
     "name": "stdout",
     "output_type": "stream",
     "text": [
      "     Make   Model  Type   Origin   DriveTrain   MSRP   Invoice   EngineSize   Cylinders   Horsepower   MPG_City   MPG_Highway   Weight   Wheelbase   Length\n",
      "0                                                False                                                                                                     \n",
      "1                                                False                                                                                                     \n",
      "2                                                False                                                                                                     \n",
      "3                                                False                                                                                                     \n",
      "4                                                False                                                                                                     \n",
      "..                                                 ...                                                                                                     \n",
      "423                                              False                                                                                                     \n",
      "424                                              False                                                                                                     \n",
      "425                                              False                                                                                                     \n",
      "426                                              False                                                                                                     \n",
      "427                                              False                                                                                                     \n",
      "\n",
      "[428 rows x 1 columns]\n",
      "    Make   Model  Type   Origin   DriveTrain   MSRP   Invoice   EngineSize   Cylinders   Horsepower   MPG_City   MPG_Highway   Weight   Wheelbase   Length\n",
      "0                                                  NaN                                                                                                    \n",
      "1                                                  NaN                                                                                                    \n",
      "2                                                  NaN                                                                                                    \n",
      "3                                                  NaN                                                                                                    \n",
      "4                                                  NaN                                                                                                    \n",
      "..                                                 ...                                                                                                    \n",
      "423                                                NaN                                                                                                    \n",
      "424                                                NaN                                                                                                    \n",
      "425                                                NaN                                                                                                    \n",
      "426                                                NaN                                                                                                    \n",
      "427                                                NaN                                                                                                    \n",
      "\n",
      "[428 rows x 1 columns]\n"
     ]
    }
   ],
   "source": [
    "import pandas as pd\n",
    "MissingData=pd.read_csv(\"CARS.csv\",delimiter=';')\n",
    "print(MissingData.isnull())\n",
    "print(MissingData[MissingData.isnull()])"
   ]
  },
  {
   "cell_type": "code",
   "execution_count": null,
   "id": "53f3b9e9",
   "metadata": {},
   "outputs": [],
   "source": []
  }
 ],
 "metadata": {
  "kernelspec": {
   "display_name": "Python 3",
   "language": "python",
   "name": "python3"
  },
  "language_info": {
   "codemirror_mode": {
    "name": "ipython",
    "version": 3
   },
   "file_extension": ".py",
   "mimetype": "text/x-python",
   "name": "python",
   "nbconvert_exporter": "python",
   "pygments_lexer": "ipython3",
   "version": "3.8.8"
  }
 },
 "nbformat": 4,
 "nbformat_minor": 5
}

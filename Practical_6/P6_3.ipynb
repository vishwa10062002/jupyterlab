{
 "cells": [
  {
   "cell_type": "code",
   "execution_count": 15,
   "id": "12a008dd",
   "metadata": {},
   "outputs": [
    {
     "name": "stdout",
     "output_type": "stream",
     "text": [
      "    Make   Model  Type   Origin   DriveTrain   MSRP   Invoice   EngineSize   Cylinders   Horsepower   MPG_City   MPG_Highway   Weight   Wheelbase   Length\n",
      "0    Acura  MDX    SUV    Asia       All       $36,...                                                                                                    \n",
      "1    Acura  RSX    2dr    Sedan     Asia       $23,...                                                                                                    \n",
      "2    Acura  TSX    4dr    Sedan     Asia       $26,...                                                                                                    \n",
      "3    Acura  TL     4dr    Sedan     Asia       $33,...                                                                                                    \n",
      "4    Acura 03.5 RL 4dr    Sedan     Asia       $43,...                                                                                                    \n",
      "..                                                 ...                                                                                                    \n",
      "423  Volvo  C70    2dr    Sedan     Europe     $40,...                                                                                                    \n",
      "424  Volvo  C70    2dr    Sedan     Europe     $42,...                                                                                                    \n",
      "425  Volvo  S80    4dr    Sedan     Europe     $45,...                                                                                                    \n",
      "426  Volvo  V40           Wagon     Europe     $26,...                                                                                                    \n",
      "427  Volvo  XC70          Wagon     Europe     $35,...                                                                                                    \n",
      "\n",
      "[428 rows x 1 columns]\n"
     ]
    }
   ],
   "source": [
    "import pandas as pd\n",
    "MissingData=pd.read_csv(\"cars.csv\",delimiter=';')\n",
    "print(MissingData.dropna())"
   ]
  },
  {
   "cell_type": "code",
   "execution_count": null,
   "id": "b63adae3",
   "metadata": {},
   "outputs": [],
   "source": []
  }
 ],
 "metadata": {
  "kernelspec": {
   "display_name": "Python 3",
   "language": "python",
   "name": "python3"
  },
  "language_info": {
   "codemirror_mode": {
    "name": "ipython",
    "version": 3
   },
   "file_extension": ".py",
   "mimetype": "text/x-python",
   "name": "python",
   "nbconvert_exporter": "python",
   "pygments_lexer": "ipython3",
   "version": "3.8.8"
  }
 },
 "nbformat": 4,
 "nbformat_minor": 5
}

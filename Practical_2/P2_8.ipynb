{
 "cells": [
  {
   "cell_type": "code",
   "execution_count": 17,
   "id": "1816d98d",
   "metadata": {},
   "outputs": [
    {
     "name": "stdout",
     "output_type": "stream",
     "text": [
      "join method: vishwa\n",
      "split method: ['v', 'i', 's', 'h', 'w', 'a']\n",
      "enter name:siya\n",
      "birthday: {'birthday': 'june 21'}\n"
     ]
    }
   ],
   "source": [
    "a=['v','i','s','h','w','a']\n",
    "print(\"join method:\", ''.join(a))\n",
    "b=' '.join(a)\n",
    "print(\"split method:\", b.split(' '))\n",
    "d={\n",
    "    'neha':{'birthday':'Aug 1'},\n",
    "    'siya':{'birthday':'june 21'},\n",
    "    'hiyan':{'birthday':'July 7'},\n",
    "    'yash':{'birthday':'may 5'} \n",
    "}\n",
    "name=input(\"enter name:\")\n",
    "print(\"birthday:\", d[name])"
   ]
  },
  {
   "cell_type": "code",
   "execution_count": null,
   "id": "e942b793",
   "metadata": {},
   "outputs": [],
   "source": []
  }
 ],
 "metadata": {
  "kernelspec": {
   "display_name": "Python 3",
   "language": "python",
   "name": "python3"
  },
  "language_info": {
   "codemirror_mode": {
    "name": "ipython",
    "version": 3
   },
   "file_extension": ".py",
   "mimetype": "text/x-python",
   "name": "python",
   "nbconvert_exporter": "python",
   "pygments_lexer": "ipython3",
   "version": "3.8.8"
  }
 },
 "nbformat": 4,
 "nbformat_minor": 5
}

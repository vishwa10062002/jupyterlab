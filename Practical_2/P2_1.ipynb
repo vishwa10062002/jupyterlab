{
 "cells": [
  {
   "cell_type": "code",
   "execution_count": 1,
   "id": "f1b4d272",
   "metadata": {},
   "outputs": [
    {
     "name": "stdout",
     "output_type": "stream",
     "text": [
      "enter number of element in list:5\n",
      "enter elements:67\n",
      "enter elements:43\n",
      "enter elements:90\n",
      "enter elements:8\n",
      "enter elements:48\n",
      "largest number: 90\n"
     ]
    }
   ],
   "source": [
    "list=[]\n",
    "num=int(input(\"enter number of element in list:\"))\n",
    "for i in range(1,num+1):\n",
    "    a=int(input(\"enter elements:\"))\n",
    "    list.append(a)\n",
    "print(\"largest number:\",max(list))"
   ]
  },
  {
   "cell_type": "code",
   "execution_count": null,
   "id": "ebe8da4d",
   "metadata": {},
   "outputs": [],
   "source": []
  }
 ],
 "metadata": {
  "kernelspec": {
   "display_name": "Python 3",
   "language": "python",
   "name": "python3"
  },
  "language_info": {
   "codemirror_mode": {
    "name": "ipython",
    "version": 3
   },
   "file_extension": ".py",
   "mimetype": "text/x-python",
   "name": "python",
   "nbconvert_exporter": "python",
   "pygments_lexer": "ipython3",
   "version": "3.8.8"
  }
 },
 "nbformat": 4,
 "nbformat_minor": 5
}

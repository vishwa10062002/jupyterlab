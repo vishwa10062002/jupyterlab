{
 "cells": [
  {
   "cell_type": "code",
   "execution_count": 1,
   "id": "2149619b",
   "metadata": {},
   "outputs": [
    {
     "name": "stdout",
     "output_type": "stream",
     "text": [
      "briya 22\n",
      "tuhi 34\n",
      "kripa 41\n",
      "vishwa 56\n",
      "keyan 60\n"
     ]
    }
   ],
   "source": [
    "d={'vishwa': 56, 'tuhi': 34, 'keyan': 60, 'briya': 22, 'kripa': 41}\n",
    "s = sorted(d.items(), key=lambda x: x[1])\n",
    "for i in s:\n",
    "    print(i[0], i[1])"
   ]
  },
  {
   "cell_type": "code",
   "execution_count": null,
   "id": "0e38afa5",
   "metadata": {},
   "outputs": [],
   "source": []
  }
 ],
 "metadata": {
  "kernelspec": {
   "display_name": "Python 3",
   "language": "python",
   "name": "python3"
  },
  "language_info": {
   "codemirror_mode": {
    "name": "ipython",
    "version": 3
   },
   "file_extension": ".py",
   "mimetype": "text/x-python",
   "name": "python",
   "nbconvert_exporter": "python",
   "pygments_lexer": "ipython3",
   "version": "3.8.8"
  }
 },
 "nbformat": 4,
 "nbformat_minor": 5
}

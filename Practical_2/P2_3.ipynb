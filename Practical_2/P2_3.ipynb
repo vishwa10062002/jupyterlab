{
 "cells": [
  {
   "cell_type": "code",
   "execution_count": 1,
   "id": "4886c6dd",
   "metadata": {},
   "outputs": [
    {
     "name": "stdout",
     "output_type": "stream",
     "text": [
      "list:\n",
      "[1, 3, 6, 9]\n",
      "list after shifted left by one position:\n",
      "[3, 6, 9, 1]\n"
     ]
    }
   ],
   "source": [
    "value=[1,3,6,9]\n",
    "print(\"list:\")\n",
    "print(value)\n",
    "def shift(list):\n",
    "    list1=[]\n",
    "    for i in list:\n",
    "        list1.insert(len(list1)-1,i)\n",
    "    return list1\n",
    "print(\"list after shifted left by one position:\")\n",
    "print(shift(value))"
   ]
  },
  {
   "cell_type": "code",
   "execution_count": null,
   "id": "e5c92b8e",
   "metadata": {},
   "outputs": [],
   "source": []
  }
 ],
 "metadata": {
  "kernelspec": {
   "display_name": "Python 3",
   "language": "python",
   "name": "python3"
  },
  "language_info": {
   "codemirror_mode": {
    "name": "ipython",
    "version": 3
   },
   "file_extension": ".py",
   "mimetype": "text/x-python",
   "name": "python",
   "nbconvert_exporter": "python",
   "pygments_lexer": "ipython3",
   "version": "3.8.8"
  }
 },
 "nbformat": 4,
 "nbformat_minor": 5
}

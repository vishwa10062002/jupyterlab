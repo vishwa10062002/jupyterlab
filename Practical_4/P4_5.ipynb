{
 "cells": [
  {
   "cell_type": "code",
   "execution_count": 2,
   "id": "0f259a55",
   "metadata": {},
   "outputs": [
    {
     "name": "stdout",
     "output_type": "stream",
     "text": [
      "Column names are Passenger, Id, Survived, Pclass, Name, Sex, Age\n",
      "\tPassengers are 1 ,Id is 0 , Survived are 3 Braund ,Pclass is  Mr. Owen Harris  ,Name is male,Sex is  22and Age is  22.\n",
      "\tPassengers are 2 ,Id is 1 , Survived are 1 Cumings ,Pclass is  Mrs. John Bradley (Florence Briggs Thayer) ,Name is  female,Sex is 38and Age is 38.\n",
      "\tPassengers are 3 ,Id is 1 , Survived are 3 Heikkinen ,Pclass is  Miss. Laina  ,Name is female,Sex is  26and Age is  26.\n",
      "\tPassengers are 4 ,Id is 1 , Survived are 1 Futrelle ,Pclass is  Mrs. Jacques Heath (Lily May Peel) ,Name is female,Sex is 35and Age is 35.\n",
      "Processed 5 lines.\n"
     ]
    }
   ],
   "source": [
    "import csv\n",
    "with open('titanic.csv') as csv_file:\n",
    "    csv_reader = csv.reader(csv_file, delimiter=',')\n",
    "    line_count = 0\n",
    "    for row in csv_reader:\n",
    "        if line_count == 0:\n",
    "            print(f'Column names are {\", \".join(row)}')\n",
    "            line_count += 1\n",
    "        else:\n",
    "            print(f'\\tPassengers are {row[0]} ,Id is {row[1]} , Survived are {row[2]} ,Pclass is {row[3]} ,Name is {row[4]},Sex is {row[5]}and Age is {row[5]}.')\n",
    "            line_count += 1\n",
    "    print(f'Processed {line_count} lines.')"
   ]
  },
  {
   "cell_type": "code",
   "execution_count": null,
   "id": "0e0df572",
   "metadata": {},
   "outputs": [],
   "source": []
  }
 ],
 "metadata": {
  "kernelspec": {
   "display_name": "Python 3",
   "language": "python",
   "name": "python3"
  },
  "language_info": {
   "codemirror_mode": {
    "name": "ipython",
    "version": 3
   },
   "file_extension": ".py",
   "mimetype": "text/x-python",
   "name": "python",
   "nbconvert_exporter": "python",
   "pygments_lexer": "ipython3",
   "version": "3.8.8"
  }
 },
 "nbformat": 4,
 "nbformat_minor": 5
}

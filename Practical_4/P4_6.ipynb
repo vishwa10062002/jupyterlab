{
 "cells": [
  {
   "cell_type": "code",
   "execution_count": 1,
   "id": "0bfe2e06",
   "metadata": {},
   "outputs": [
    {
     "name": "stdout",
     "output_type": "stream",
     "text": [
      "  letter  values\n",
      "0      a       1\n",
      "1      b       2\n",
      "2      c       3\n",
      "3      d       4\n",
      "4      e       5\n",
      "5      f       6\n",
      "6      g       7\n",
      "7      h       8\n",
      "8      i       9\n",
      "9      j      10\n"
     ]
    }
   ],
   "source": [
    "import pandas as pd\n",
    "workbook = pd.read_excel('values.xlsx')\n",
    "print(workbook)"
   ]
  },
  {
   "cell_type": "code",
   "execution_count": null,
   "id": "542a34ad",
   "metadata": {},
   "outputs": [],
   "source": []
  }
 ],
 "metadata": {
  "kernelspec": {
   "display_name": "Python 3",
   "language": "python",
   "name": "python3"
  },
  "language_info": {
   "codemirror_mode": {
    "name": "ipython",
    "version": 3
   },
   "file_extension": ".py",
   "mimetype": "text/x-python",
   "name": "python",
   "nbconvert_exporter": "python",
   "pygments_lexer": "ipython3",
   "version": "3.8.8"
  }
 },
 "nbformat": 4,
 "nbformat_minor": 5
}

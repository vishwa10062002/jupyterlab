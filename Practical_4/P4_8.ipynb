{
 "cells": [
  {
   "cell_type": "code",
   "execution_count": 25,
   "id": "93c9d966",
   "metadata": {},
   "outputs": [
    {
     "name": "stdout",
     "output_type": "stream",
     "text": [
      "Item #1 attribute:\n",
      "apple\n",
      "Item #2 attribute:\n",
      "mango\n",
      "\n",
      "All attributes:\n",
      "apple\n",
      "mango\n"
     ]
    }
   ],
   "source": [
    "from xml.dom import minidom\n",
    "mydoc = minidom.parse('XMLData.xml')\n",
    "items = mydoc.getElementsByTagName('item')\n",
    "print('Item #1 attribute:')\n",
    "print(items[0].attributes['name'].value)\n",
    "print('Item #2 attribute:')\n",
    "print(items[1].attributes['name'].value)\n",
    "print('\\nAll attributes:')\n",
    "for elem in items:\n",
    "    print(elem.attributes['name'].value)"
   ]
  },
  {
   "cell_type": "code",
   "execution_count": null,
   "id": "e76a27aa",
   "metadata": {},
   "outputs": [],
   "source": []
  }
 ],
 "metadata": {
  "kernelspec": {
   "display_name": "Python 3",
   "language": "python",
   "name": "python3"
  },
  "language_info": {
   "codemirror_mode": {
    "name": "ipython",
    "version": 3
   },
   "file_extension": ".py",
   "mimetype": "text/x-python",
   "name": "python",
   "nbconvert_exporter": "python",
   "pygments_lexer": "ipython3",
   "version": "3.8.8"
  }
 },
 "nbformat": 4,
 "nbformat_minor": 5
}

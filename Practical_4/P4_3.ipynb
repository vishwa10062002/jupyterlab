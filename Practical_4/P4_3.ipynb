{
 "cells": [
  {
   "cell_type": "code",
   "execution_count": 1,
   "id": "49a105d4",
   "metadata": {},
   "outputs": [
    {
     "name": "stdout",
     "output_type": "stream",
     "text": [
      "Reading Line: 1 , Content: red          1\n",
      "\n",
      "Reading Line: 3 , Content: orange       3\n",
      "\n",
      "Reading Line: 5 , Content: black        5\n",
      "\n",
      "Reading Line: 7 , Content: green        7\n",
      "\n"
     ]
    }
   ],
   "source": [
    "f=open(\"Colors.txt\", \"r\")\n",
    "for j, observation in enumerate(f):\n",
    "    if j%2==0:\n",
    "        exit()\n",
    "    else:\n",
    "        print(\"Reading Line: \" + str(j) + \" , Content: \" + observation)"
   ]
  },
  {
   "cell_type": "code",
   "execution_count": null,
   "id": "230f74e8",
   "metadata": {},
   "outputs": [],
   "source": []
  }
 ],
 "metadata": {
  "kernelspec": {
   "display_name": "Python 3",
   "language": "python",
   "name": "python3"
  },
  "language_info": {
   "codemirror_mode": {
    "name": "ipython",
    "version": 3
   },
   "file_extension": ".py",
   "mimetype": "text/x-python",
   "name": "python",
   "nbconvert_exporter": "python",
   "pygments_lexer": "ipython3",
   "version": "3.8.8"
  }
 },
 "nbformat": 4,
 "nbformat_minor": 5
}

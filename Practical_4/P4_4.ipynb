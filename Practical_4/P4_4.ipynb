{
 "cells": [
  {
   "cell_type": "code",
   "execution_count": 4,
   "id": "580443a7",
   "metadata": {},
   "outputs": [
    {
     "name": "stdout",
     "output_type": "stream",
     "text": [
      "Reading line: 1, Content: red          1\n",
      "\n",
      "Reading line: 2, Content: blue         2\n",
      "\n",
      "Reading line: 5, Content: black        5\n",
      "\n"
     ]
    }
   ],
   "source": [
    "from random import random\n",
    "sample_size = 0.25\n",
    "f=open(\"Colors.txt\", \"r\")\n",
    "for j, observation in enumerate(f):\n",
    "      if random()<=sample_size:\n",
    "            print(\"Reading line: \"+str(j) +\", Content: \" + observation)"
   ]
  },
  {
   "cell_type": "code",
   "execution_count": null,
   "id": "5edea52b",
   "metadata": {},
   "outputs": [],
   "source": []
  }
 ],
 "metadata": {
  "kernelspec": {
   "display_name": "Python 3",
   "language": "python",
   "name": "python3"
  },
  "language_info": {
   "codemirror_mode": {
    "name": "ipython",
    "version": 3
   },
   "file_extension": ".py",
   "mimetype": "text/x-python",
   "name": "python",
   "nbconvert_exporter": "python",
   "pygments_lexer": "ipython3",
   "version": "3.8.8"
  }
 },
 "nbformat": 4,
 "nbformat_minor": 5
}

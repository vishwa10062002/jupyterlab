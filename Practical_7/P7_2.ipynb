{
 "cells": [
  {
   "cell_type": "code",
   "execution_count": 22,
   "id": "1c53db96",
   "metadata": {},
   "outputs": [
    {
     "name": "stdout",
     "output_type": "stream",
     "text": [
      "Transform [[0.31337344 0.         0.31337344 0.40352536 0.31337344 0.\n",
      "  0.40352536 0.         0.31337344 0.53058735]\n",
      " [0.27541838 0.         0.55083675 0.35465131 0.27541838 0.46632385\n",
      "  0.35465131 0.         0.27541838 0.        ]\n",
      " [0.32052772 0.54270061 0.32052772 0.         0.32052772 0.\n",
      "  0.         0.54270061 0.32052772 0.        ]]\n",
      "['and', 'good', 'is', 'long', 'movie', 'not', 'scary', 'spooky', 'this', 'very']\n"
     ]
    }
   ],
   "source": [
    "from sklearn.feature_extraction.text import TfidfVectorizer\n",
    "Review1=\"This movie is very scary and long\"\n",
    "Review2=\"This movie is not scary and is long\"\n",
    "Review3=\"This movie is spooky and good\"\n",
    "Review = [Review1,Review2,Review3]\n",
    "V = TfidfVectorizer()\n",
    "V_Fit = V.fit_transform(Review)\n",
    "analyze = V.build_analyzer()\n",
    "print('Transform',V_Fit.toarray())\n",
    "print(V.get_feature_names())"
   ]
  },
  {
   "cell_type": "code",
   "execution_count": null,
   "id": "213c5b1f",
   "metadata": {},
   "outputs": [],
   "source": []
  }
 ],
 "metadata": {
  "kernelspec": {
   "display_name": "Python 3",
   "language": "python",
   "name": "python3"
  },
  "language_info": {
   "codemirror_mode": {
    "name": "ipython",
    "version": 3
   },
   "file_extension": ".py",
   "mimetype": "text/x-python",
   "name": "python",
   "nbconvert_exporter": "python",
   "pygments_lexer": "ipython3",
   "version": "3.8.8"
  }
 },
 "nbformat": 4,
 "nbformat_minor": 5
}

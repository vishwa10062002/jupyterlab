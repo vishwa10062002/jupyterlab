{
 "cells": [
  {
   "cell_type": "code",
   "execution_count": 1,
   "id": "b26efb01",
   "metadata": {},
   "outputs": [
    {
     "name": "stdout",
     "output_type": "stream",
     "text": [
      "   and  good  is  long  movie  not  scary  spooky  this  very\n",
      "0    1     0   1     1      1    0      1       0     1     1\n",
      "1    1     0   2     1      1    1      1       0     1     0\n",
      "2    1     1   1     0      1    0      0       1     1     0\n"
     ]
    }
   ],
   "source": [
    "import pandas as pd\n",
    "from sklearn.feature_extraction.text import *\n",
    "Review1=\"This movie is very scary and long\"\n",
    "Review2=\"This movie is not scary and is long\"\n",
    "Review3=\"This movie is spooky and good\"\n",
    "CV=CountVectorizer()\n",
    "Count=CV.fit_transform([Review1,Review2,Review3])\n",
    "DF=pd.DataFrame(Count.toarray(),columns=CV.get_feature_names())\n",
    "print(DF)"
   ]
  },
  {
   "cell_type": "code",
   "execution_count": null,
   "id": "cb3025b0",
   "metadata": {},
   "outputs": [],
   "source": []
  }
 ],
 "metadata": {
  "kernelspec": {
   "display_name": "Python 3",
   "language": "python",
   "name": "python3"
  },
  "language_info": {
   "codemirror_mode": {
    "name": "ipython",
    "version": 3
   },
   "file_extension": ".py",
   "mimetype": "text/x-python",
   "name": "python",
   "nbconvert_exporter": "python",
   "pygments_lexer": "ipython3",
   "version": "3.8.8"
  }
 },
 "nbformat": 4,
 "nbformat_minor": 5
}

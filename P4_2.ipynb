{
 "cells": [
  {
   "cell_type": "code",
   "execution_count": 4,
   "id": "796c0cb2",
   "metadata": {},
   "outputs": [
    {
     "name": "stdout",
     "output_type": "stream",
     "text": [
      "Reading Data:  Color  Value\n",
      "\n",
      "Reading Data:  Red      1\n",
      "\n",
      "Reading Data:  Blue     2\n",
      "\n",
      "Reading Data:  Orange   3\n",
      "\n",
      "Reading Data:  Green    4\n",
      "\n",
      "Reading Data:  Yellow   5\n",
      "\n",
      "Reading Data:  Black    6\n",
      "\n",
      "Reading Data:  White    7\n",
      "\n",
      "Reading Data:  Purple   8\n",
      "\n"
     ]
    }
   ],
   "source": [
    "f=open(\"Colors.txt\", \"r\")\n",
    "for observation in f:\n",
    "    print(\"Reading Data: \", observation)"
   ]
  }
 ],
 "metadata": {
  "kernelspec": {
   "display_name": "Python 3",
   "language": "python",
   "name": "python3"
  },
  "language_info": {
   "codemirror_mode": {
    "name": "ipython",
    "version": 3
   },
   "file_extension": ".py",
   "mimetype": "text/x-python",
   "name": "python",
   "nbconvert_exporter": "python",
   "pygments_lexer": "ipython3",
   "version": "3.8.8"
  }
 },
 "nbformat": 4,
 "nbformat_minor": 5
}

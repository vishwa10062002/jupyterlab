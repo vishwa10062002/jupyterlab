{
 "cells": [
  {
   "cell_type": "code",
   "execution_count": 1,
   "id": "50f68727",
   "metadata": {},
   "outputs": [
    {
     "name": "stdout",
     "output_type": "stream",
     "text": [
      "enter any alphabet:A\n",
      "A  is a vowel\n"
     ]
    }
   ],
   "source": [
    "a=input(\"enter any alphabet:\")\n",
    "if (a=='a') or (a=='A') or (a=='e') or (a=='E') or (a=='i') or (a=='I') or (a=='o') or (a=='O') or (a=='u') or (a=='U'):\n",
    "    print(a,\" is a vowel\")\n",
    "else:\n",
    "    print(a,\" is a consonant\")"
   ]
  },
  {
   "cell_type": "code",
   "execution_count": null,
   "id": "8d5e7150",
   "metadata": {},
   "outputs": [],
   "source": []
  }
 ],
 "metadata": {
  "kernelspec": {
   "display_name": "Python 3",
   "language": "python",
   "name": "python3"
  },
  "language_info": {
   "codemirror_mode": {
    "name": "ipython",
    "version": 3
   },
   "file_extension": ".py",
   "mimetype": "text/x-python",
   "name": "python",
   "nbconvert_exporter": "python",
   "pygments_lexer": "ipython3",
   "version": "3.8.8"
  }
 },
 "nbformat": 4,
 "nbformat_minor": 5
}

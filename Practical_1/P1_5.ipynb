{
 "cells": [
  {
   "cell_type": "code",
   "execution_count": 2,
   "id": "693c968b",
   "metadata": {},
   "outputs": [
    {
     "name": "stdout",
     "output_type": "stream",
     "text": [
      "enter any number:4321\n",
      "reverse number: 1234\n"
     ]
    }
   ],
   "source": [
    "num=int(input(\"enter any number:\"))\n",
    "rev=0\n",
    "while (num>0):\n",
    "    r=num%10\n",
    "    rev=(rev*10)+r\n",
    "    num=num//10\n",
    "print(\"reverse number: %d\" %rev)"
   ]
  },
  {
   "cell_type": "code",
   "execution_count": null,
   "id": "7aee19fa",
   "metadata": {},
   "outputs": [],
   "source": []
  }
 ],
 "metadata": {
  "kernelspec": {
   "display_name": "Python 3",
   "language": "python",
   "name": "python3"
  },
  "language_info": {
   "codemirror_mode": {
    "name": "ipython",
    "version": 3
   },
   "file_extension": ".py",
   "mimetype": "text/x-python",
   "name": "python",
   "nbconvert_exporter": "python",
   "pygments_lexer": "ipython3",
   "version": "3.8.8"
  }
 },
 "nbformat": 4,
 "nbformat_minor": 5
}

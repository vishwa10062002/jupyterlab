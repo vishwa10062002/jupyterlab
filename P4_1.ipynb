{
 "cells": [
  {
   "cell_type": "code",
   "execution_count": 14,
   "id": "97321f07",
   "metadata": {},
   "outputs": [
    {
     "name": "stdout",
     "output_type": "stream",
     "text": [
      "Color  Value\n",
      "Red      1\n",
      "Blue     2\n",
      "Orange   3\n",
      "Green    4\n",
      "Yellow   5\n",
      "Black    6\n",
      "White    7\n",
      "Purple   8\n",
      "\n"
     ]
    }
   ],
   "source": [
    "f=open(\"Colors.txt\", \"r\")\n",
    "print(f.read())"
   ]
  }
 ],
 "metadata": {
  "kernelspec": {
   "display_name": "Python 3",
   "language": "python",
   "name": "python3"
  },
  "language_info": {
   "codemirror_mode": {
    "name": "ipython",
    "version": 3
   },
   "file_extension": ".py",
   "mimetype": "text/x-python",
   "name": "python",
   "nbconvert_exporter": "python",
   "pygments_lexer": "ipython3",
   "version": "3.8.8"
  }
 },
 "nbformat": 4,
 "nbformat_minor": 5
}

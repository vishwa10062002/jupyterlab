{
 "cells": [
  {
   "cell_type": "code",
   "execution_count": 2,
   "id": "e5b1cca9",
   "metadata": {},
   "outputs": [
    {
     "name": "stdout",
     "output_type": "stream",
     "text": [
      "array:\n",
      "[1, 2, 3, 13, 2, 1]\n",
      "sum of number in array:\n",
      "7\n"
     ]
    }
   ],
   "source": [
    "value=[1,2,3,13,2,1]\n",
    "print(\"array:\")\n",
    "print(value)\n",
    "def sum13(nums):\n",
    "    if len(nums) == 0:\n",
    "        return 0\n",
    "    for i in range(0, len(nums)):\n",
    "        if nums[i] == 13:\n",
    "            nums[i] = 0\n",
    "            if i+1 < len(nums): \n",
    "                nums[i+1] = 0\n",
    "    return sum(nums)\n",
    "print(\"sum of number in array:\")\n",
    "print(sum13(value))"
   ]
  },
  {
   "cell_type": "code",
   "execution_count": null,
   "id": "64707d0d",
   "metadata": {},
   "outputs": [],
   "source": []
  }
 ],
 "metadata": {
  "kernelspec": {
   "display_name": "Python 3",
   "language": "python",
   "name": "python3"
  },
  "language_info": {
   "codemirror_mode": {
    "name": "ipython",
    "version": 3
   },
   "file_extension": ".py",
   "mimetype": "text/x-python",
   "name": "python",
   "nbconvert_exporter": "python",
   "pygments_lexer": "ipython3",
   "version": "3.8.8"
  }
 },
 "nbformat": 4,
 "nbformat_minor": 5
}

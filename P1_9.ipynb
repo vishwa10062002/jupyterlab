{
 "cells": [
  {
   "cell_type": "code",
   "execution_count": 2,
   "id": "f023c097",
   "metadata": {},
   "outputs": [
    {
     "name": "stdout",
     "output_type": "stream",
     "text": [
      " University\n",
      "Uiest\n"
     ]
    }
   ],
   "source": [
    "myStr = 'GTU is the best University'\n",
    "print (myStr [15 : : 1])\n",
    "print (myStr [-10 : -1 : 2])"
   ]
  },
  {
   "cell_type": "code",
   "execution_count": 3,
   "id": "20aabfcc",
   "metadata": {},
   "outputs": [
    {
     "name": "stdout",
     "output_type": "stream",
     "text": [
      "(4,)\n",
      "(1, 2, 3, (4,), [7, 6])\n"
     ]
    }
   ],
   "source": [
    "t=(1,2,3,(4, ),[5,6])\n",
    "print(t[3])\n",
    "t[4][0]=7\n",
    "print(t)"
   ]
  },
  {
   "cell_type": "code",
   "execution_count": 4,
   "id": "beb3ba3a",
   "metadata": {},
   "outputs": [
    {
     "name": "stdout",
     "output_type": "stream",
     "text": [
      "[(1, 3), (1, 4), (2, 3), (2, 1), (2, 4), (3, 1), (3, 4)]\n"
     ]
    }
   ],
   "source": [
    "I=[(x, y) for x in [1,2,3] for y in [3,1,4] if x !=y]\n",
    "print (I)"
   ]
  },
  {
   "cell_type": "code",
   "execution_count": 5,
   "id": "f378acd1",
   "metadata": {},
   "outputs": [
    {
     "name": "stdout",
     "output_type": "stream",
     "text": [
      "Slice of String :  his\n",
      "Slice of String :  Ti sPho\n"
     ]
    }
   ],
   "source": [
    "str1 = 'This is Pyhton'\n",
    "print (\"Slice of String : \", str1[1 : 4 : 1])\n",
    "print (\"Slice of String : \", str1[0 : -1 : 2])"
   ]
  },
  {
   "cell_type": "code",
   "execution_count": null,
   "id": "5c019e61",
   "metadata": {},
   "outputs": [],
   "source": []
  }
 ],
 "metadata": {
  "kernelspec": {
   "display_name": "Python 3",
   "language": "python",
   "name": "python3"
  },
  "language_info": {
   "codemirror_mode": {
    "name": "ipython",
    "version": 3
   },
   "file_extension": ".py",
   "mimetype": "text/x-python",
   "name": "python",
   "nbconvert_exporter": "python",
   "pygments_lexer": "ipython3",
   "version": "3.8.8"
  }
 },
 "nbformat": 4,
 "nbformat_minor": 5
}

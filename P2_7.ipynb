{
 "cells": [
  {
   "cell_type": "code",
   "execution_count": 1,
   "id": "ff3e9a1f",
   "metadata": {},
   "outputs": [
    {
     "name": "stdout",
     "output_type": "stream",
     "text": [
      "Enter String: i am vishwa patel\n",
      "Dictionary is: {'i': 2, ' ': 3, 'a': 3, 'm': 1, 'v': 1, 's': 1, 'h': 1, 'w': 1, 'p': 1, 't': 1, 'e': 1, 'l': 1}\n"
     ]
    }
   ],
   "source": [
    "str=input(\"Enter String: \")\n",
    "d={}\n",
    "for i in str:\n",
    "    if i in d:\n",
    "        d[i]+=1\n",
    "    else:\n",
    "        d[i]=1\n",
    "print(\"Dictionary is:\", d)"
   ]
  },
  {
   "cell_type": "code",
   "execution_count": null,
   "id": "6c63c83e",
   "metadata": {},
   "outputs": [],
   "source": []
  }
 ],
 "metadata": {
  "kernelspec": {
   "display_name": "Python 3",
   "language": "python",
   "name": "python3"
  },
  "language_info": {
   "codemirror_mode": {
    "name": "ipython",
    "version": 3
   },
   "file_extension": ".py",
   "mimetype": "text/x-python",
   "name": "python",
   "nbconvert_exporter": "python",
   "pygments_lexer": "ipython3",
   "version": "3.8.8"
  }
 },
 "nbformat": 4,
 "nbformat_minor": 5
}
